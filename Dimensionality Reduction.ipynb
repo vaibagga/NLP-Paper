{
 "cells": [
  {
   "cell_type": "markdown",
   "metadata": {},
   "source": [
    "<h2>\n",
    "    Implementation of paper on Natural Language Processing\n",
    "</h2>\n",
    "<p>\n",
    "    <ul>\n",
    "        <li> Title: Simple and Effective Dimensionality Reduction for\n",
    "Word Embeddings </li>\n",
    "        <li> Author: Vikas Raunak </li>\n",
    "        <li> Published in: 31st Conference on Neural Information Processing Systems (NIPS 2017), Long Beach, CA, USA.</li>\n",
    "        <li> <a href = \"https://github.com/vaibagga/NLP-Paper\"> Link for code </a> </li>\n",
    "    </ul>\n",
    "</p>\n",
    "<hr>"
   ]
  },
  {
   "cell_type": "markdown",
   "metadata": {},
   "source": [
    "Importing all the dependencies:\n",
    "<ol>\n",
    "    <li> Numpy </li>\n",
    "    <li> Pandas </li>\n",
    "    <li> Gensim</li>\n",
    "    <li> NLTK </li>\n",
    "</ol>"
   ]
  },
  {
   "cell_type": "code",
   "execution_count": 6,
   "metadata": {
    "scrolled": true
   },
   "outputs": [],
   "source": [
    "import numpy as np\n",
    "import pandas as pd\n",
    "from gensim.models import word2vec\n",
    "from tqdm import tqdm\n",
    "from sklearn.decomposition import PCA\n",
    "import pickle\n",
    "import sys\n",
    "import os\n",
    "from tqdm import tqdm"
   ]
  },
  {
   "cell_type": "markdown",
   "metadata": {},
   "source": [
    "Importing glove embeddings (saved on local machine) \n",
    "<a href = \"https://nlp.stanford.edu/projects/glove/\"> Link for word embeddings </a>"
   ]
  },
  {
   "cell_type": "code",
   "execution_count": 7,
   "metadata": {},
   "outputs": [],
   "source": [
    "def loadGloveModel(gloveFile):\n",
    "    f = open(gloveFile,'r')\n",
    "    model = {}\n",
    "    for line in f:\n",
    "        splitLine = line.split()\n",
    "        word = splitLine[0]\n",
    "        embedding = np.array([float(val) for val in splitLine[1:]])\n",
    "        model[word] = embedding\n",
    "    print(\"Word embeddings succesfully loaded\")\n",
    "    return model"
   ]
  },
  {
   "cell_type": "code",
   "execution_count": 8,
   "metadata": {},
   "outputs": [
    {
     "name": "stdout",
     "output_type": "stream",
     "text": [
      "Word embeddings succesfully loaded\n"
     ]
    }
   ],
   "source": [
    "glove300 = loadGloveModel('glove.6B.300d.txt')"
   ]
  },
  {
   "cell_type": "code",
   "execution_count": 9,
   "metadata": {},
   "outputs": [
    {
     "name": "stderr",
     "output_type": "stream",
     "text": [
      "100%|██████████| 400000/400000 [00:00<00:00, 1337255.11it/s]\n"
     ]
    }
   ],
   "source": [
    "## reducing dimensions of words\n",
    "X_train = []\n",
    "X_train_names = []\n",
    "for x in tqdm(glove300):\n",
    "        X_train.append(glove300[x])\n",
    "        X_train_names.append(x)\n",
    "\n",
    "X_train = np.asarray(X_train)\n",
    "pca_embeddings = {}\n",
    "\n",
    "# PCA to get Top Components\n",
    "pca =  PCA(n_components = 300)\n",
    "X_train = X_train - np.mean(X_train)\n",
    "X_fit = pca.fit_transform(X_train)\n",
    "U1 = pca.components_\n",
    "\n",
    "z = []\n",
    "\n",
    "# Removing Projections on Top Components\n",
    "for i, x in enumerate(X_train):\n",
    "    for u in U1[0:7]:        \n",
    "            x = x - np.dot(u.transpose(),x) * u \n",
    "    z.append(x)\n",
    "\n",
    "z = np.asarray(z)\n",
    "\n",
    "# PCA Dim Reduction\n",
    "pca =  PCA(n_components = 150)\n",
    "X_train = z - np.mean(z)\n",
    "X_new_final = pca.fit_transform(X_train)\n",
    "\n",
    "\n",
    "# PCA to do Post-Processing Again\n",
    "pca =  PCA(n_components = 150)\n",
    "X_new = X_new_final - np.mean(X_new_final)\n",
    "X_new = pca.fit_transform(X_new)\n",
    "Ufit = pca.components_\n",
    "\n",
    "X_new_final = X_new_final - np.mean(X_new_final)\n",
    "\n",
    "final_pca_embeddings = {}\n",
    "embedding_file = open('pca_embed2.txt', 'w')"
   ]
  },
  {
   "cell_type": "code",
   "execution_count": 13,
   "metadata": {},
   "outputs": [],
   "source": [
    "def read_word_vectors(filename):    \n",
    "    word_vecs = {}\n",
    "    if filename.endswith('.gz'): file_object = gzip.open(filename, 'r')\n",
    "    else: file_object = open(filename, 'r')\n",
    "\n",
    "    for line_num, line in enumerate(file_object):\n",
    "        line = line.strip().lower()\n",
    "        word = line.split()[0]\n",
    "        word_vecs[word] = numpy.zeros(len(line.split())-1, dtype=float)\n",
    "        for index, vec_val in enumerate(line.split()[1:]):\n",
    "            word_vecs[word][index] = float(vec_val)\n",
    "        word_vecs[word] /= math.sqrt((word_vecs[word]**2).sum() + 1e-6)        \n",
    "\n",
    "    sys.stderr.write(\"Vectors read from: \"+filename+\" \\n\")\n",
    "    return word_vecs\n"
   ]
  },
  {
   "cell_type": "code",
   "execution_count": 16,
   "metadata": {},
   "outputs": [
    {
     "name": "stdout",
     "output_type": "stream",
     "text": [
      "Results for the Embedding\n",
      "Vectors read from: pca_embed2.txt \n",
      "   Serial             Dataset Num Pairs Not Found       Rho\n",
      "0       1  EN-RW-STANFORD.txt      2034       252  0.436566\n",
      "1       2    EN-MTurk-287.txt       287         0  0.660352\n",
      "2       3   EN-SIMLEX-999.txt       999         0  0.385396\n",
      "3       4    EN-MEN-TR-3k.txt      3000         0  0.748888\n",
      "4       5       EN-YP-130.txt       130         0  0.549244\n",
      "5       6     EN-VERB-143.txt       144         0  0.393999\n",
      "6       7    EN-MTurk-771.txt       771         0  0.652786\n",
      "7       8   EN-WS-353-ALL.txt       353         0  0.675084\n",
      "8       9   EN-WS-353-REL.txt       252         0  0.626766\n",
      "9      10        EN-MC-30.txt        30         0  0.747969\n",
      "10     11        EN-RG-65.txt        65         0  0.775491\n",
      "11     12   EN-WS-353-SIM.txt       203         0  0.715894\n",
      "Results for Glove\n",
      "Vectors read from: glove.6B.300d.txt \n",
      "   Serial             Dataset Num Pairs Not Found       Rho\n",
      "0       1  EN-RW-STANFORD.txt      2034       252  0.411774\n",
      "1       2    EN-MTurk-287.txt       287         0  0.633188\n",
      "2       3   EN-SIMLEX-999.txt       999         0  0.370502\n",
      "3       4    EN-MEN-TR-3k.txt      3000         0  0.737469\n",
      "4       5       EN-YP-130.txt       130         0  0.561278\n",
      "5       6     EN-VERB-143.txt       144         0  0.305143\n",
      "6       7    EN-MTurk-771.txt       771         0  0.650083\n",
      "7       8   EN-WS-353-ALL.txt       353         0  0.605403\n",
      "8       9   EN-WS-353-REL.txt       252         0  0.572535\n",
      "9      10        EN-MC-30.txt        30         0  0.702570\n",
      "10     11        EN-RG-65.txt        65         0  0.766159\n",
      "11     12   EN-WS-353-SIM.txt       203         0  0.663757\n"
     ]
    }
   ],
   "source": [
    "print(\"Results for the Embedding\")\n",
    "!python all_wordsim.py pca_embed2.txt data/word-sim/\n",
    "print(\"Results for Glove\")\n",
    "!python all_wordsim.py glove.6B.300d.txt data/word-sim\n"
   ]
  },
  {
   "cell_type": "code",
   "execution_count": null,
   "metadata": {},
   "outputs": [],
   "source": []
  }
 ],
 "metadata": {
  "kernelspec": {
   "display_name": "Python 3",
   "language": "python",
   "name": "python3"
  },
  "language_info": {
   "codemirror_mode": {
    "name": "ipython",
    "version": 3
   },
   "file_extension": ".py",
   "mimetype": "text/x-python",
   "name": "python",
   "nbconvert_exporter": "python",
   "pygments_lexer": "ipython3",
   "version": "3.6.8"
  }
 },
 "nbformat": 4,
 "nbformat_minor": 2
}
