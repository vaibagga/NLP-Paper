{
 "cells": [
  {
   "cell_type": "markdown",
   "metadata": {},
   "source": [
    "<h2>\n",
    "    Implementation of paper on Natural Language Processing\n",
    "</h2>\n",
    "<p>\n",
    "    <ul>\n",
    "        <li> Title: Simple and Effective Dimensionality Reduction for\n",
    "Word Embeddings </li>\n",
    "        <li> Author: Vikas Raunak </li>\n",
    "        <li> Published in: 31st Conference on Neural Information Processing Systems (NIPS 2017), Long Beach, CA, USA.</li>\n",
    "        <li> <a href = \"https://github.com/vaibagga/NLP-Paper\"> <img src = \"data:image/png;base64,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\", width = 20, height = 20, align = \"left\"> </a> </li>\n",
    "    </ul>\n",
    "</p>\n",
    "<hr>"
   ]
  },
  {
   "cell_type": "markdown",
   "metadata": {},
   "source": [
    "Importing all the dependencies:\n",
    "<ol>\n",
    "    <li> Numpy </li>\n",
    "    <li> Pandas </li>\n",
    "    <li> Gensim</li>\n",
    "    <li> NLTK </li>\n",
    "</ol>"
   ]
  },
  {
   "cell_type": "code",
   "execution_count": 36,
   "metadata": {},
   "outputs": [],
   "source": [
    "import numpy as np\n",
    "import pandas as pd\n",
    "from gensim.models import word2vec\n",
    "from tqdm import tqdm\n",
    "from sklearn.decomposition import PCA"
   ]
  },
  {
   "cell_type": "markdown",
   "metadata": {},
   "source": [
    "Importing glove embeddings (saved on local machine) \n",
    "<a href = \"https://nlp.stanford.edu/projects/glove/\"> Link for word embeddings </a>"
   ]
  },
  {
   "cell_type": "code",
   "execution_count": 6,
   "metadata": {},
   "outputs": [],
   "source": [
    "def loadGloveModel(gloveFile):\n",
    "    f = open(gloveFile,'r')\n",
    "    model = {}\n",
    "    for line in f:\n",
    "        splitLine = line.split()\n",
    "        word = splitLine[0]\n",
    "        embedding = np.array([float(val) for val in splitLine[1:]])\n",
    "        model[word] = embedding\n",
    "    print(\"Word embeddings succesfully loaded\")\n",
    "    return model"
   ]
  },
  {
   "cell_type": "code",
   "execution_count": 7,
   "metadata": {},
   "outputs": [
    {
     "name": "stdout",
     "output_type": "stream",
     "text": [
      "Word embeddings succesfully loaded\n"
     ]
    }
   ],
   "source": [
    "glove300 = loadGloveModel('glove.6B.300d.txt')"
   ]
  },
  {
   "cell_type": "code",
   "execution_count": 68,
   "metadata": {},
   "outputs": [],
   "source": [
    "## Word embedding matrix\n",
    "def embeddings2Mat(embeddings):\n",
    "    X = []\n",
    "    indexes = {}\n",
    "    i = 0\n",
    "    for word in tqdm(embeddings.keys()):\n",
    "        X.append(embeddings[word])\n",
    "        indexes[word] = i\n",
    "        i += 1\n",
    "    X = np.asarray(X)\n",
    "    return indexes, X"
   ]
  },
  {
   "cell_type": "code",
   "execution_count": 88,
   "metadata": {},
   "outputs": [],
   "source": [
    "def PPA(X, d):\n",
    "    X = X - np.mean(X)\n",
    "    pca = PCA(n_components = d)\n",
    "    X_fit = pca.fit_transform(X)\n",
    "    U1 = pca.components_\n",
    "    z = []\n",
    "\n",
    "    # Removing Projections on Top Components\n",
    "    for i, x in enumerate(X):\n",
    "        for u in U1[0:7]:        \n",
    "            x = x - np.dot(u.transpose(),x) * u \n",
    "        z.append(x)\n",
    "    z = np.asarray(z)\n",
    "    return z   \n",
    "    "
   ]
  },
  {
   "cell_type": "code",
   "execution_count": 94,
   "metadata": {},
   "outputs": [],
   "source": [
    "def PCA(X, d):\n",
    "    pca =  PCA(n_components = 150)\n",
    "    X = X - np.mean(X)\n",
    "    X = pca.fit_transform(X)\n",
    "    return X"
   ]
  },
  {
   "cell_type": "code",
   "execution_count": 93,
   "metadata": {},
   "outputs": [
    {
     "data": {
      "text/plain": [
       "array([-1.46378777e-16, -3.45912573e-16,  5.71992937e-16, -2.23192114e-15,\n",
       "        8.55344751e-16,  1.55811787e-15,  9.99200722e-15, -4.85022893e-02,\n",
       "       -4.90050781e-01,  5.46039590e-02, -7.48771710e-03, -1.79336567e-01,\n",
       "       -5.39947722e-01, -1.81582156e-01,  1.51588430e-01,  4.58308691e-01,\n",
       "       -4.03614713e-01,  8.50273084e-02,  8.51485869e-02,  6.15946634e-01,\n",
       "       -2.47611489e-01,  2.42270504e-01, -3.68701699e-01,  1.50778125e-01,\n",
       "       -4.41861144e-01,  6.49488616e-01,  4.84957911e-01,  3.03059168e-01,\n",
       "        8.89696600e-02, -1.28993463e-01, -1.75153252e-01, -3.73924924e-01,\n",
       "       -7.81433733e-03, -2.31565032e-01,  1.56935095e-01, -2.84830030e-01,\n",
       "        5.45153907e-02,  9.85687717e-02,  1.35606534e-01,  1.23604720e-01,\n",
       "        8.57558725e-02,  8.32478721e-02, -1.51698471e-01,  1.37803353e-01,\n",
       "       -3.02673740e-01,  6.58712404e-02,  3.12916177e-01,  1.08936346e-01,\n",
       "        1.18844478e-01,  4.05878444e-02])"
      ]
     },
     "execution_count": 93,
     "metadata": {},
     "output_type": "execute_result"
    }
   ],
   "source": []
  },
  {
   "cell_type": "code",
   "execution_count": null,
   "metadata": {},
   "outputs": [],
   "source": []
  }
 ],
 "metadata": {
  "kernelspec": {
   "display_name": "Python 3",
   "language": "python",
   "name": "python3"
  },
  "language_info": {
   "codemirror_mode": {
    "name": "ipython",
    "version": 3
   },
   "file_extension": ".py",
   "mimetype": "text/x-python",
   "name": "python",
   "nbconvert_exporter": "python",
   "pygments_lexer": "ipython3",
   "version": "3.6.7"
  }
 },
 "nbformat": 4,
 "nbformat_minor": 2
}
